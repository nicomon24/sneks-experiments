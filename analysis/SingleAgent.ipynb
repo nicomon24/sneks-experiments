{
 "cells": [
  {
   "cell_type": "markdown",
   "metadata": {},
   "source": [
    "# Single Agent Snek\n",
    "In this notebook, we want to analyze the performances, critical features and results for the single agent environment.\n",
    "\n",
    "## Draft roadmap\n",
    "- Loading and rendering of the environment on notebook (save on GIF)\n",
    "- Optimal solution performance and rendering\n",
    "- DQN experiments\n",
    "    - Network size\n",
    "    - Learnt model visual reconstruction\n",
    "- ..."
   ]
  },
  {
   "cell_type": "markdown",
   "metadata": {},
   "source": [
    "## Visualizing the environment"
   ]
  },
  {
   "cell_type": "code",
   "execution_count": 1,
   "metadata": {},
   "outputs": [],
   "source": [
    "import matplotlib.pyplot as plt\n",
    "from matplotlib import animation, rc\n",
    "from IPython.display import HTML, Image\n",
    "from IPython import display\n",
    "import gym, sneks\n",
    "import numpy as np\n",
    "import sys\n",
    "\n",
    "rc('animation', html='html5')"
   ]
  },
  {
   "cell_type": "code",
   "execution_count": 2,
   "metadata": {},
   "outputs": [],
   "source": [
    "env = gym.make('snek-rgb-16-v1')"
   ]
  },
  {
   "cell_type": "code",
   "execution_count": 3,
   "metadata": {},
   "outputs": [],
   "source": [
    "def play_one_episode(policy):\n",
    "    obs = env.reset()\n",
    "    observations, done, steps, reward = [obs], False, 0, 0\n",
    "    while not done:\n",
    "        obs, r, done, _ = env.step(policy(obs))\n",
    "        reward += r\n",
    "        steps += 1\n",
    "        observations.append(obs)\n",
    "    return observations, steps, reward"
   ]
  },
  {
   "cell_type": "code",
   "execution_count": 4,
   "metadata": {},
   "outputs": [
    {
     "name": "stdout",
     "output_type": "stream",
     "text": [
      "Episode return: -1\n",
      "Episode length: 14\n"
     ]
    }
   ],
   "source": [
    "observations, steps, reward = play_one_episode(lambda x: env.action_space.sample())\n",
    "print(\"Episode return:\", reward)\n",
    "print(\"Episode length:\", steps)"
   ]
  },
  {
   "cell_type": "code",
   "execution_count": 5,
   "metadata": {
    "scrolled": false
   },
   "outputs": [
    {
     "data": {
      "text/html": [
       "<img src=\"gifs/test_env.gif\"/>"
      ],
      "text/plain": [
       "<IPython.core.display.Image object>"
      ]
     },
     "metadata": {},
     "output_type": "display_data"
    }
   ],
   "source": [
    "def saveualize(observations, filepath):\n",
    "    fig, ax = plt.subplots(1, figsize=(6, 6))\n",
    "    fig.subplots_adjust(left=0, bottom=0, right=1, top=1, wspace=None, hspace=None)\n",
    "    img = ax.imshow(observations[0])\n",
    "\n",
    "    def animate(i):\n",
    "        img.set_data(observations[i])\n",
    "        return img\n",
    "\n",
    "    plt.axis('off')\n",
    "    ax.get_xaxis().set_visible(False)\n",
    "    ax.get_yaxis().set_visible(False)\n",
    "    anim = animation.FuncAnimation(fig, animate, frames=len(observations), interval=1000);\n",
    "    anim.save(filepath, writer='imagemagick', fps=15)\n",
    "    return Image(url=filepath, format='gif')\n",
    "\n",
    "display.display(saveualize(observations, 'gifs/test_env.gif'))"
   ]
  },
  {
   "cell_type": "markdown",
   "metadata": {},
   "source": [
    "## Simple policy"
   ]
  },
  {
   "cell_type": "code",
   "execution_count": 6,
   "metadata": {},
   "outputs": [],
   "source": [
    "sys.path.append('..')\n",
    "from basic.benchmark import BasicPolicy"
   ]
  },
  {
   "cell_type": "code",
   "execution_count": 12,
   "metadata": {},
   "outputs": [
    {
     "name": "stdout",
     "output_type": "stream",
     "text": [
      "Episode return: 21\n",
      "Episode length: 313\n"
     ]
    }
   ],
   "source": [
    "pi = BasicPolicy()\n",
    "observations, steps, reward = play_one_episode(lambda x: pi.act(x))\n",
    "print(\"Episode return:\", reward)\n",
    "print(\"Episode length:\", steps)"
   ]
  },
  {
   "cell_type": "code",
   "execution_count": 13,
   "metadata": {},
   "outputs": [
    {
     "data": {
      "text/html": [
       "<img src=\"gifs/basic_policy.gif\"/>"
      ],
      "text/plain": [
       "<IPython.core.display.Image object>"
      ]
     },
     "metadata": {},
     "output_type": "display_data"
    }
   ],
   "source": [
    "display.display(saveualize(observations, 'gifs/basic_policy.gif'))"
   ]
  },
  {
   "cell_type": "code",
   "execution_count": null,
   "metadata": {},
   "outputs": [],
   "source": []
  }
 ],
 "metadata": {
  "kernelspec": {
   "display_name": "Python 3",
   "language": "python",
   "name": "python3"
  },
  "language_info": {
   "codemirror_mode": {
    "name": "ipython",
    "version": 3
   },
   "file_extension": ".py",
   "mimetype": "text/x-python",
   "name": "python",
   "nbconvert_exporter": "python",
   "pygments_lexer": "ipython3",
   "version": "3.6.0"
  }
 },
 "nbformat": 4,
 "nbformat_minor": 2
}
